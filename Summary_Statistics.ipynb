{
 "cells": [
  {
   "cell_type": "code",
   "execution_count": 2,
   "metadata": {
    "collapsed": true,
    "pycharm": {
     "name": "#%%\n"
    }
   },
   "outputs": [],
   "source": [
    "import pandas as pd\n",
    "import geopandas as gpd\n",
    "import matplotlib.pyplot as plt\n",
    "import numpy as np\n",
    "from pyproj import CRS\n",
    "import pathlib\n",
    "from pathlib import Path\n",
    "from shapely import wkt\n",
    "from tqdm import tqdm\n",
    "# set the working directory\n",
    "BASE_DIR = Path.cwd()\n",
    "# define the exported folder path\n",
    "# Check if folder exists\n",
    "folder_path = pathlib.Path(BASE_DIR.parent.joinpath(\"Exported_Files\",\"census_tract\",\"agg_network\"))\n",
    "folder_path.mkdir(parents=True, exist_ok=True)\n",
    "# print(BASE_DIR)"
   ]
  },
  {
   "cell_type": "code",
   "execution_count": 3,
   "outputs": [],
   "source": [
    "# Let's read the SF-Champ network and get the basic stats"
   ],
   "metadata": {
    "collapsed": false,
    "pycharm": {
     "name": "#%%\n"
    }
   }
  },
  {
   "cell_type": "code",
   "execution_count": 4,
   "outputs": [],
   "source": [
    "# Road network comparision: YR 2010 vs YR 2016"
   ],
   "metadata": {
    "collapsed": false,
    "pycharm": {
     "name": "#%%\n"
    }
   }
  },
  {
   "cell_type": "code",
   "execution_count": 5,
   "outputs": [
    {
     "name": "stdout",
     "output_type": "stream",
     "text": [
      "Total number of road segments at CT level - YR2010:33395, YR2016:33462 \n",
      "Total number of road segments at TAZ level- YR2010:42082, YR2016:42168 \n"
     ]
    }
   ],
   "source": [
    "dfrdnetwrk2010 = gpd.read_file(BASE_DIR.parent.joinpath(folder_path,\"Feb162022\",\"SFChamp_2010_CT_PCS.geojson\"), crs = \"EPSG:3857\")\n",
    "dfrdnetwrk2010taz = gpd.read_file(BASE_DIR.parent.joinpath(folder_path,\"Feb162022\",\"TAZ\",\"SFChamp_2010_TAZ_PCS.geojson\"), crs = \"EPSG:3857\")\n",
    "\n",
    "dfrdnetwrk2016 = gpd.read_file(BASE_DIR.parent.joinpath(folder_path,\"Feb162022\",\"SFChamp_2016_CT_PCS.geojson\"), crs = \"EPSG:3857\")\n",
    "dfrdnetwrk2016taz = gpd.read_file(BASE_DIR.parent.joinpath(folder_path,\"Feb162022\",\"TAZ\",\"SFChamp_2016_TAZ_PCS.geojson\"), crs = \"EPSG:3857\")\n",
    "\n",
    "print(f\"Total number of road segments at CT level - YR2010:{len(dfrdnetwrk2010)}, YR2016:{len(dfrdnetwrk2016)} \")\n",
    "print(f\"Total number of road segments at TAZ level- YR2010:{len(dfrdnetwrk2010taz)}, YR2016:{len(dfrdnetwrk2016taz)} \")"
   ],
   "metadata": {
    "collapsed": false,
    "pycharm": {
     "name": "#%%\n"
    }
   }
  },
  {
   "cell_type": "code",
   "execution_count": 6,
   "outputs": [
    {
     "name": "stdout",
     "output_type": "stream",
     "text": [
      "11.0    0.606169\n",
      "4.0     0.159425\n",
      "7.0     0.089474\n",
      "12.0    0.083875\n",
      "15.0    0.021770\n",
      "9.0     0.020153\n",
      "13.0    0.006498\n",
      "5.0     0.005959\n",
      "2.0     0.004132\n",
      "3.0     0.001797\n",
      "1.0     0.000749\n",
      "Name: FT, dtype: float64\n"
     ]
    }
   ],
   "source": [
    "print(dfrdnetwrk2010[\"FT\"].value_counts(normalize=True))"
   ],
   "metadata": {
    "collapsed": false,
    "pycharm": {
     "name": "#%%\n"
    }
   }
  },
  {
   "cell_type": "code",
   "execution_count": 7,
   "outputs": [],
   "source": [
    "# also get the distribution by Facility Type\n",
    "# FT = 1:Fwy-Fwy Connector, 2:Freeway, 3:Expressway, 4:Collector, 5:Ramp, 6:Centroid Connector, 7:Major Arterial, 8:Not used,\n",
    "# 9:Alley, 10:Metered Ramp, 11:Local, 12:Minor Arterial,13:Bike-Only!, 14:Not used, 15:Super Arterial,\n",
    "# Segregate the road network into three categories\n",
    "# 1. Category 1 = contains FT = [1, 2, 3, 5]\n",
    "# 2. Category 2 = contains FT = [4, 7,12,13,15]\n",
    "# 3. Category 3 = contains FT = [9,11]\n",
    "\n",
    "# modify the dataframe to create a new column \"CATEGORY\" using \"FacilityType\"\n",
    "def label_df_by_road_category(_df,fld):\n",
    "    _df[\"category\"]=0\n",
    "    _df.loc[_df[fld].isin([1, 2, 3, 5,13]),'category']=1\n",
    "    _df.loc[_df[fld].isin([4,7,12,15]),'category']=2\n",
    "    _df.loc[_df[fld].isin([9,11 ]),'category']=3\n",
    "    return _df"
   ],
   "metadata": {
    "collapsed": false,
    "pycharm": {
     "name": "#%%\n"
    }
   }
  },
  {
   "cell_type": "code",
   "execution_count": 8,
   "outputs": [
    {
     "name": "stdout",
     "output_type": "stream",
     "text": [
      "For Census Tract - YR:2010\n",
      "1      639\n",
      "2    11840\n",
      "3    20916\n",
      "Name: category, dtype: int64\n",
      "For Census Tract - YR:2016\n",
      "1      695\n",
      "2    11851\n",
      "3    20916\n",
      "Name: category, dtype: int64\n"
     ]
    }
   ],
   "source": [
    "dfrdntwrk2010_cat =  label_df_by_road_category(dfrdnetwrk2010.copy(),\"FT\")\n",
    "print(\"For Census Tract - YR:2010\")\n",
    "print(dfrdntwrk2010_cat[\"category\"].value_counts(ascending=True))\n",
    "\n",
    "dfrdntwrk2016_cat =  label_df_by_road_category(dfrdnetwrk2016.copy(),\"FT\")\n",
    "print(\"For Census Tract - YR:2016\")\n",
    "print(dfrdntwrk2016_cat[\"category\"].value_counts(ascending=True))"
   ],
   "metadata": {
    "collapsed": false,
    "pycharm": {
     "name": "#%%\n"
    }
   }
  },
  {
   "cell_type": "code",
   "execution_count": 9,
   "outputs": [
    {
     "name": "stdout",
     "output_type": "stream",
     "text": [
      "For Census Tract - YR:2010\n",
      "1      858\n",
      "2    15024\n",
      "3    26200\n",
      "Name: category, dtype: int64\n",
      "For Census Tract - YR:2016\n",
      "1      932\n",
      "2    15036\n",
      "3    26200\n",
      "Name: category, dtype: int64\n"
     ]
    }
   ],
   "source": [
    "dfrdntwrk2016taz_cat =  label_df_by_road_category(dfrdnetwrk2010taz.copy(),\"FT\")\n",
    "print(\"For Census Tract - YR:2010\")\n",
    "print(dfrdntwrk2016taz_cat[\"category\"].value_counts(ascending=True))\n",
    "\n",
    "dfrdntwrk2016taz_cat =  label_df_by_road_category(dfrdnetwrk2016taz.copy(),\"FT\")\n",
    "print(\"For Census Tract - YR:2016\")\n",
    "print(dfrdntwrk2016taz_cat[\"category\"].value_counts(ascending=True))"
   ],
   "metadata": {
    "collapsed": false,
    "pycharm": {
     "name": "#%%\n"
    }
   }
  },
  {
   "cell_type": "code",
   "execution_count": null,
   "outputs": [],
   "source": [
    "# Road Crashes\n",
    "# Collision severity types:\n",
    "# Fatal:1, Severe_Injury:2, Visible_Injury:3, Other Injury: 4, PDO: 5"
   ],
   "metadata": {
    "collapsed": false,
    "pycharm": {
     "name": "#%%\n"
    }
   }
  },
  {
   "cell_type": "code",
   "execution_count": 14,
   "outputs": [
    {
     "name": "stdout",
     "output_type": "stream",
     "text": [
      "Total Crashes - Census Tract: YR2010: 6340 vs YR 2016: 7179\n",
      "Total Crashes (Nearest Neightbour) - CT: YR2010: 5817 vs YR 2016: 6388\n",
      "Total Crashes - TAZ: YR2010: 6288 vs YR 2016: 7020\n",
      "Total Crashes (Nearest Neightbour) - TAZ: YR2010: 5780 vs YR 2016: 6296\n"
     ]
    }
   ],
   "source": [
    "dfroadcrash2010 = gpd.read_file(BASE_DIR.parent.joinpath(folder_path,\"Feb162022\",\"SFCrash_2010_CT_PCS.geojson\"), crs = \"EPSG:3857\")\n",
    "dfnnroadcrash2010 = gpd.read_file(BASE_DIR.parent.joinpath(folder_path,\"Feb162022\",\"NN_SFCrash_SFChamp_2010_CT_PCS.geojson\"), crs = \"EPSG:3857\")\n",
    "dfnnroadcrash2010 = dfnnroadcrash2010.loc[dfnnroadcrash2010[\"D2NL\"]<10.00,:]\n",
    "dfroadcrash2010taz = gpd.read_file(BASE_DIR.parent.joinpath(folder_path,\"Feb162022\",\"TAZ\",\"SFCrash_2010_TAZ_PCS.geojson\"), crs = \"EPSG:3857\")\n",
    "dfnnroadcrash2010taz = gpd.read_file(BASE_DIR.parent.joinpath(folder_path,\"Feb162022\",\"TAZ\",\"NN_SFCrash_2010_TAZ_PCS.geojson\"), crs = \"EPSG:3857\")\n",
    "dfnnroadcrash2010taz = dfnnroadcrash2010taz.loc[dfnnroadcrash2010taz[\"D2NL\"]<10.00,:]\n",
    "\n",
    "dfroadcrash2016 = gpd.read_file(BASE_DIR.parent.joinpath(folder_path,\"Feb162022\",\"SFCrash_2016_CT_PCS.geojson\"), crs = \"EPSG:3857\")\n",
    "dfnnroadcrash2016 = gpd.read_file(BASE_DIR.parent.joinpath(folder_path,\"Feb162022\",\"NN_SFCrash_SFChamp_2016_CT_PCS.geojson\"), crs = \"EPSG:3857\")\n",
    "dfnnroadcrash2016 = dfnnroadcrash2016.loc[dfnnroadcrash2016[\"D2NL\"]<10.00,:]\n",
    "dfroadcrash2016taz = gpd.read_file(BASE_DIR.parent.joinpath(folder_path,\"Feb162022\",\"TAZ\",\"SFCrash_2016_TAZ_PCS.geojson\"), crs = \"EPSG:3857\")\n",
    "dfnnroadcrash2016taz = gpd.read_file(BASE_DIR.parent.joinpath(folder_path,\"Feb162022\",\"TAZ\",\"NN_SFCrash_2016_TAZ_PCS.geojson\"), crs = \"EPSG:3857\")\n",
    "dfnnroadcrash2016taz = dfnnroadcrash2016taz.loc[dfnnroadcrash2016taz[\"D2NL\"]<10.00,:]\n",
    "\n",
    "print(f\"Total Crashes - Census Tract: YR2010: {dfroadcrash2010['Total_Crash'].sum()} vs YR 2016: {dfroadcrash2016['Total_Crash'].sum()}\")\n",
    "print(f\"Total Crashes (Nearest Neightbour) - CT: YR2010: {dfnnroadcrash2010['Total_Crash'].sum()} vs YR 2016: {dfnnroadcrash2016['Total_Crash'].sum()}\")\n",
    "\n",
    "print(f\"Total Crashes - TAZ: YR2010: {dfroadcrash2010taz['Total_Crash'].sum()} vs YR 2016: {dfroadcrash2016taz['Total_Crash'].sum()}\")\n",
    "print(f\"Total Crashes (Nearest Neightbour) - TAZ: YR2010: {dfnnroadcrash2010taz['Total_Crash'].sum()} vs YR 2016: {dfnnroadcrash2016taz['Total_Crash'].sum()}\")"
   ],
   "metadata": {
    "collapsed": false,
    "pycharm": {
     "name": "#%%\n"
    }
   }
  },
  {
   "cell_type": "code",
   "execution_count": 36,
   "outputs": [
    {
     "data": {
      "text/plain": "   YR 2010 (CT)  YR 2010 (NN CT)  YR 2010 (TAZ)  YR 2010 (NN_TAZ)\n0          2680             2371           2662              2364\n1          2305             2159           2284              2140\n2          1132             1079           1121              1070\n3           194              183            192               181\n4            29               25             29                25",
      "text/html": "<div>\n<style scoped>\n    .dataframe tbody tr th:only-of-type {\n        vertical-align: middle;\n    }\n\n    .dataframe tbody tr th {\n        vertical-align: top;\n    }\n\n    .dataframe thead th {\n        text-align: right;\n    }\n</style>\n<table border=\"1\" class=\"dataframe\">\n  <thead>\n    <tr style=\"text-align: right;\">\n      <th></th>\n      <th>YR 2010 (CT)</th>\n      <th>YR 2010 (NN CT)</th>\n      <th>YR 2010 (TAZ)</th>\n      <th>YR 2010 (NN_TAZ)</th>\n    </tr>\n  </thead>\n  <tbody>\n    <tr>\n      <th>0</th>\n      <td>2680</td>\n      <td>2371</td>\n      <td>2662</td>\n      <td>2364</td>\n    </tr>\n    <tr>\n      <th>1</th>\n      <td>2305</td>\n      <td>2159</td>\n      <td>2284</td>\n      <td>2140</td>\n    </tr>\n    <tr>\n      <th>2</th>\n      <td>1132</td>\n      <td>1079</td>\n      <td>1121</td>\n      <td>1070</td>\n    </tr>\n    <tr>\n      <th>3</th>\n      <td>194</td>\n      <td>183</td>\n      <td>192</td>\n      <td>181</td>\n    </tr>\n    <tr>\n      <th>4</th>\n      <td>29</td>\n      <td>25</td>\n      <td>29</td>\n      <td>25</td>\n    </tr>\n  </tbody>\n</table>\n</div>"
     },
     "execution_count": 36,
     "metadata": {},
     "output_type": "execute_result"
    }
   ],
   "source": [
    "# by crash types\n",
    "# YR 2010\n",
    "pd.concat([dfroadcrash2010['COLLISION_SEVERITY'].value_counts().rename_axis(\"Collision_Severity\").reset_index(name=\"YR 2010 (CT)\")[\"YR 2010 (CT)\"],\n",
    "           dfnnroadcrash2010['COLLISION_SEVERITY'].value_counts().rename_axis(\"Collision_Severity\").reset_index(name=\"YR 2010 (NN CT)\")[\"YR 2010 (NN CT)\"],\n",
    "           dfroadcrash2010taz['COLLISION_SEVERITY'].value_counts().rename_axis(\"Collision_Severity\").reset_index(name=\"YR 2010 (TAZ)\")[\"YR 2010 (TAZ)\"],\n",
    "           dfnnroadcrash2010taz['COLLISION_SEVERITY'].value_counts().rename_axis(\"Collision_Severity\").reset_index(name=\"YR 2010 (NN_TAZ)\")[\"YR 2010 (NN_TAZ)\"],\n",
    "           ],axis=1)"
   ],
   "metadata": {
    "collapsed": false,
    "pycharm": {
     "name": "#%%\n"
    }
   }
  },
  {
   "cell_type": "code",
   "execution_count": 39,
   "outputs": [
    {
     "data": {
      "text/plain": "   YR 2010 (CT)  YR 2010 (NN CT)  YR 2010 (TAZ)  YR 2010 (NN_TAZ)\n0      0.422713         0.407598       0.423346          0.408997\n1      0.363565         0.371154       0.363232          0.370242\n2      0.178549         0.185491       0.178276          0.185121\n3      0.030599         0.031460       0.030534          0.031315\n4      0.004574         0.004298       0.004612          0.004325",
      "text/html": "<div>\n<style scoped>\n    .dataframe tbody tr th:only-of-type {\n        vertical-align: middle;\n    }\n\n    .dataframe tbody tr th {\n        vertical-align: top;\n    }\n\n    .dataframe thead th {\n        text-align: right;\n    }\n</style>\n<table border=\"1\" class=\"dataframe\">\n  <thead>\n    <tr style=\"text-align: right;\">\n      <th></th>\n      <th>YR 2010 (CT)</th>\n      <th>YR 2010 (NN CT)</th>\n      <th>YR 2010 (TAZ)</th>\n      <th>YR 2010 (NN_TAZ)</th>\n    </tr>\n  </thead>\n  <tbody>\n    <tr>\n      <th>0</th>\n      <td>0.422713</td>\n      <td>0.407598</td>\n      <td>0.423346</td>\n      <td>0.408997</td>\n    </tr>\n    <tr>\n      <th>1</th>\n      <td>0.363565</td>\n      <td>0.371154</td>\n      <td>0.363232</td>\n      <td>0.370242</td>\n    </tr>\n    <tr>\n      <th>2</th>\n      <td>0.178549</td>\n      <td>0.185491</td>\n      <td>0.178276</td>\n      <td>0.185121</td>\n    </tr>\n    <tr>\n      <th>3</th>\n      <td>0.030599</td>\n      <td>0.031460</td>\n      <td>0.030534</td>\n      <td>0.031315</td>\n    </tr>\n    <tr>\n      <th>4</th>\n      <td>0.004574</td>\n      <td>0.004298</td>\n      <td>0.004612</td>\n      <td>0.004325</td>\n    </tr>\n  </tbody>\n</table>\n</div>"
     },
     "execution_count": 39,
     "metadata": {},
     "output_type": "execute_result"
    }
   ],
   "source": [
    "# Crash YR 2010 in percentage\n",
    "pd.concat([dfroadcrash2010['COLLISION_SEVERITY'].value_counts(normalize=True).rename_axis(\"Collision_Severity\").reset_index(name=\"YR 2010 (CT)\")[\"YR 2010 (CT)\"],\n",
    "           dfnnroadcrash2010['COLLISION_SEVERITY'].value_counts(normalize=True).rename_axis(\"Collision_Severity\").reset_index(name=\"YR 2010 (NN CT)\")[\"YR 2010 (NN CT)\"],\n",
    "           dfroadcrash2010taz['COLLISION_SEVERITY'].value_counts(normalize=True).rename_axis(\"Collision_Severity\").reset_index(name=\"YR 2010 (TAZ)\")[\"YR 2010 (TAZ)\"],\n",
    "           dfnnroadcrash2010taz['COLLISION_SEVERITY'].value_counts(normalize=True).rename_axis(\"Collision_Severity\").reset_index(name=\"YR 2010 (NN_TAZ)\")[\"YR 2010 (NN_TAZ)\"],\n",
    "           ],axis=1)"
   ],
   "metadata": {
    "collapsed": false,
    "pycharm": {
     "name": "#%%\n"
    }
   }
  },
  {
   "cell_type": "code",
   "execution_count": 37,
   "outputs": [
    {
     "data": {
      "text/plain": "   YR 2016 (CT)  YR 2016 (NN CT)  YR 2016 (TAZ)  YR 2016 (NN_TAZ)\n0      0.443655         0.422668       0.440883          0.423761\n1      0.365232         0.377113       0.366952          0.376429\n2      0.148628         0.154665       0.149003          0.153907\n3      0.037749         0.040701       0.038462          0.041137\n4      0.004736         0.004853       0.004701          0.004765",
      "text/html": "<div>\n<style scoped>\n    .dataframe tbody tr th:only-of-type {\n        vertical-align: middle;\n    }\n\n    .dataframe tbody tr th {\n        vertical-align: top;\n    }\n\n    .dataframe thead th {\n        text-align: right;\n    }\n</style>\n<table border=\"1\" class=\"dataframe\">\n  <thead>\n    <tr style=\"text-align: right;\">\n      <th></th>\n      <th>YR 2016 (CT)</th>\n      <th>YR 2016 (NN CT)</th>\n      <th>YR 2016 (TAZ)</th>\n      <th>YR 2016 (NN_TAZ)</th>\n    </tr>\n  </thead>\n  <tbody>\n    <tr>\n      <th>0</th>\n      <td>0.443655</td>\n      <td>0.422668</td>\n      <td>0.440883</td>\n      <td>0.423761</td>\n    </tr>\n    <tr>\n      <th>1</th>\n      <td>0.365232</td>\n      <td>0.377113</td>\n      <td>0.366952</td>\n      <td>0.376429</td>\n    </tr>\n    <tr>\n      <th>2</th>\n      <td>0.148628</td>\n      <td>0.154665</td>\n      <td>0.149003</td>\n      <td>0.153907</td>\n    </tr>\n    <tr>\n      <th>3</th>\n      <td>0.037749</td>\n      <td>0.040701</td>\n      <td>0.038462</td>\n      <td>0.041137</td>\n    </tr>\n    <tr>\n      <th>4</th>\n      <td>0.004736</td>\n      <td>0.004853</td>\n      <td>0.004701</td>\n      <td>0.004765</td>\n    </tr>\n  </tbody>\n</table>\n</div>"
     },
     "execution_count": 37,
     "metadata": {},
     "output_type": "execute_result"
    }
   ],
   "source": [
    "# YR 2016\n",
    "pd.concat([dfroadcrash2016['COLLISION_SEVERITY'].value_counts().rename_axis(\"Collision_Severity\").reset_index(name=\"YR 2010 (CT)\")[\"YR 2010 (CT)\"],\n",
    "           dfnnroadcrash2016['COLLISION_SEVERITY'].value_counts().rename_axis(\"Collision_Severity\").reset_index(name=\"YR 2010 (NN CT)\")[\"YR 2010 (NN CT)\"],\n",
    "           dfroadcrash2016taz['COLLISION_SEVERITY'].value_counts().rename_axis(\"Collision_Severity\").reset_index(name=\"YR 2010 (TAZ)\")[\"YR 2010 (TAZ)\"],\n",
    "           dfnnroadcrash2016taz['COLLISION_SEVERITY'].value_counts().rename_axis(\"Collision_Severity\").reset_index(name=\"YR 2010 (NN_TAZ)\")[\"YR 2010 (NN_TAZ)\"],\n",
    "           ],axis=1)"
   ],
   "metadata": {
    "collapsed": false,
    "pycharm": {
     "name": "#%%\n"
    }
   }
  },
  {
   "cell_type": "code",
   "execution_count": 38,
   "outputs": [
    {
     "data": {
      "text/plain": "   YR 2016 (CT)  YR 2016 (NN CT)  YR 2016 (TAZ)  YR 2016 (NN_TAZ)\n0      0.443655         0.422668       0.440883          0.423761\n1      0.365232         0.377113       0.366952          0.376429\n2      0.148628         0.154665       0.149003          0.153907\n3      0.037749         0.040701       0.038462          0.041137\n4      0.004736         0.004853       0.004701          0.004765",
      "text/html": "<div>\n<style scoped>\n    .dataframe tbody tr th:only-of-type {\n        vertical-align: middle;\n    }\n\n    .dataframe tbody tr th {\n        vertical-align: top;\n    }\n\n    .dataframe thead th {\n        text-align: right;\n    }\n</style>\n<table border=\"1\" class=\"dataframe\">\n  <thead>\n    <tr style=\"text-align: right;\">\n      <th></th>\n      <th>YR 2016 (CT)</th>\n      <th>YR 2016 (NN CT)</th>\n      <th>YR 2016 (TAZ)</th>\n      <th>YR 2016 (NN_TAZ)</th>\n    </tr>\n  </thead>\n  <tbody>\n    <tr>\n      <th>0</th>\n      <td>0.443655</td>\n      <td>0.422668</td>\n      <td>0.440883</td>\n      <td>0.423761</td>\n    </tr>\n    <tr>\n      <th>1</th>\n      <td>0.365232</td>\n      <td>0.377113</td>\n      <td>0.366952</td>\n      <td>0.376429</td>\n    </tr>\n    <tr>\n      <th>2</th>\n      <td>0.148628</td>\n      <td>0.154665</td>\n      <td>0.149003</td>\n      <td>0.153907</td>\n    </tr>\n    <tr>\n      <th>3</th>\n      <td>0.037749</td>\n      <td>0.040701</td>\n      <td>0.038462</td>\n      <td>0.041137</td>\n    </tr>\n    <tr>\n      <th>4</th>\n      <td>0.004736</td>\n      <td>0.004853</td>\n      <td>0.004701</td>\n      <td>0.004765</td>\n    </tr>\n  </tbody>\n</table>\n</div>"
     },
     "execution_count": 38,
     "metadata": {},
     "output_type": "execute_result"
    }
   ],
   "source": [
    "# Crash YR 2016 in percentage\n",
    "pd.concat([dfroadcrash2016['COLLISION_SEVERITY'].value_counts(normalize=True).rename_axis(\"Collision_Severity\").reset_index(name=\"YR 2016 (CT)\")[\"YR 2016 (CT)\"],\n",
    "           dfnnroadcrash2016['COLLISION_SEVERITY'].value_counts(normalize=True).rename_axis(\"Collision_Severity\").reset_index(name=\"YR 2016 (NN CT)\")[\"YR 2016 (NN CT)\"],\n",
    "           dfroadcrash2016taz['COLLISION_SEVERITY'].value_counts(normalize=True).rename_axis(\"Collision_Severity\").reset_index(name=\"YR 2016 (TAZ)\")[\"YR 2016 (TAZ)\"],\n",
    "           dfnnroadcrash2016taz['COLLISION_SEVERITY'].value_counts(normalize=True).rename_axis(\"Collision_Severity\").reset_index(name=\"YR 2016 (NN_TAZ)\")[\"YR 2016 (NN_TAZ)\"],\n",
    "           ],axis=1)"
   ],
   "metadata": {
    "collapsed": false,
    "pycharm": {
     "name": "#%%\n"
    }
   }
  },
  {
   "cell_type": "code",
   "execution_count": null,
   "outputs": [],
   "source": [
    "# Road Crashes in each category based on FT"
   ],
   "metadata": {
    "collapsed": false,
    "pycharm": {
     "name": "#%%\n"
    }
   }
  },
  {
   "cell_type": "code",
   "execution_count": 46,
   "outputs": [],
   "source": [
    "dfnnroadcrash2010_cat = label_df_by_road_category(dfnnroadcrash2010,\"FT\")\n",
    "dfnnroadcrash2010taz_cat = label_df_by_road_category(dfnnroadcrash2010taz,\"FT\")\n",
    "\n",
    "dfnnroadcrash2016_cat = label_df_by_road_category(dfnnroadcrash2016,\"FT\")\n",
    "dfnnroadcrash2016taz_cat = label_df_by_road_category(dfnnroadcrash2016taz,\"FT\")"
   ],
   "metadata": {
    "collapsed": false,
    "pycharm": {
     "name": "#%%\n"
    }
   }
  },
  {
   "cell_type": "code",
   "execution_count": 47,
   "outputs": [
    {
     "data": {
      "text/plain": "   YR 2010 (NN CT)  YR 2016 (NN CT)\n0             3751             3897\n1             1264             1542\n2              802              949",
      "text/html": "<div>\n<style scoped>\n    .dataframe tbody tr th:only-of-type {\n        vertical-align: middle;\n    }\n\n    .dataframe tbody tr th {\n        vertical-align: top;\n    }\n\n    .dataframe thead th {\n        text-align: right;\n    }\n</style>\n<table border=\"1\" class=\"dataframe\">\n  <thead>\n    <tr style=\"text-align: right;\">\n      <th></th>\n      <th>YR 2010 (NN CT)</th>\n      <th>YR 2016 (NN CT)</th>\n    </tr>\n  </thead>\n  <tbody>\n    <tr>\n      <th>0</th>\n      <td>3751</td>\n      <td>3897</td>\n    </tr>\n    <tr>\n      <th>1</th>\n      <td>1264</td>\n      <td>1542</td>\n    </tr>\n    <tr>\n      <th>2</th>\n      <td>802</td>\n      <td>949</td>\n    </tr>\n  </tbody>\n</table>\n</div>"
     },
     "execution_count": 47,
     "metadata": {},
     "output_type": "execute_result"
    }
   ],
   "source": [
    "pd.concat([dfnnroadcrash2010_cat[\"category\"].value_counts().rename_axis(\"TotalCrashes\").reset_index(name=\"YR 2010 (NN CT)\")[\"YR 2010 (NN CT)\"],\n",
    "           dfnnroadcrash2016_cat[\"category\"].value_counts().rename_axis(\"TotalCrashes\").reset_index(name=\"YR 2016 (NN CT)\")[\"YR 2016 (NN CT)\"]\n",
    "           ],axis=1)"
   ],
   "metadata": {
    "collapsed": false,
    "pycharm": {
     "name": "#%%\n"
    }
   }
  },
  {
   "cell_type": "code",
   "execution_count": 49,
   "outputs": [
    {
     "data": {
      "text/plain": "   YR 2010 (NN CT)  YR 2016 (NN CT)\n0              506              566\n1              202              293\n2               80               74\n3               11               12\n4                3                4",
      "text/html": "<div>\n<style scoped>\n    .dataframe tbody tr th:only-of-type {\n        vertical-align: middle;\n    }\n\n    .dataframe tbody tr th {\n        vertical-align: top;\n    }\n\n    .dataframe thead th {\n        text-align: right;\n    }\n</style>\n<table border=\"1\" class=\"dataframe\">\n  <thead>\n    <tr style=\"text-align: right;\">\n      <th></th>\n      <th>YR 2010 (NN CT)</th>\n      <th>YR 2016 (NN CT)</th>\n    </tr>\n  </thead>\n  <tbody>\n    <tr>\n      <th>0</th>\n      <td>506</td>\n      <td>566</td>\n    </tr>\n    <tr>\n      <th>1</th>\n      <td>202</td>\n      <td>293</td>\n    </tr>\n    <tr>\n      <th>2</th>\n      <td>80</td>\n      <td>74</td>\n    </tr>\n    <tr>\n      <th>3</th>\n      <td>11</td>\n      <td>12</td>\n    </tr>\n    <tr>\n      <th>4</th>\n      <td>3</td>\n      <td>4</td>\n    </tr>\n  </tbody>\n</table>\n</div>"
     },
     "execution_count": 49,
     "metadata": {},
     "output_type": "execute_result"
    }
   ],
   "source": [
    "pd.concat([dfnnroadcrash2010_cat.loc[dfnnroadcrash2010_cat[\"category\"]==1,\"COLLISION_SEVERITY\"].value_counts().rename_axis(\"Collision_Severity\").reset_index(name=\"YR 2010 (NN CT)\")[\"YR 2010 (NN CT)\"],\n",
    "           dfnnroadcrash2016_cat.loc[dfnnroadcrash2016_cat[\"category\"]==1,\"COLLISION_SEVERITY\"].value_counts().rename_axis(\"Collision_Severity\").reset_index(name=\"YR 2016 (NN CT)\")[\"YR 2016 (NN CT)\"]\n",
    "           ],axis=1)"
   ],
   "metadata": {
    "collapsed": false,
    "pycharm": {
     "name": "#%%\n"
    }
   }
  },
  {
   "cell_type": "code",
   "execution_count": 51,
   "outputs": [
    {
     "data": {
      "text/plain": "   YR 2010 (NN CT)  YR 2016 (NN CT)\n0             1553             1607\n1             1268             1406\n2              772              677\n3              139              188\n4               19               19",
      "text/html": "<div>\n<style scoped>\n    .dataframe tbody tr th:only-of-type {\n        vertical-align: middle;\n    }\n\n    .dataframe tbody tr th {\n        vertical-align: top;\n    }\n\n    .dataframe thead th {\n        text-align: right;\n    }\n</style>\n<table border=\"1\" class=\"dataframe\">\n  <thead>\n    <tr style=\"text-align: right;\">\n      <th></th>\n      <th>YR 2010 (NN CT)</th>\n      <th>YR 2016 (NN CT)</th>\n    </tr>\n  </thead>\n  <tbody>\n    <tr>\n      <th>0</th>\n      <td>1553</td>\n      <td>1607</td>\n    </tr>\n    <tr>\n      <th>1</th>\n      <td>1268</td>\n      <td>1406</td>\n    </tr>\n    <tr>\n      <th>2</th>\n      <td>772</td>\n      <td>677</td>\n    </tr>\n    <tr>\n      <th>3</th>\n      <td>139</td>\n      <td>188</td>\n    </tr>\n    <tr>\n      <th>4</th>\n      <td>19</td>\n      <td>19</td>\n    </tr>\n  </tbody>\n</table>\n</div>"
     },
     "execution_count": 51,
     "metadata": {},
     "output_type": "execute_result"
    }
   ],
   "source": [
    "pd.concat([dfnnroadcrash2010_cat.loc[dfnnroadcrash2010_cat[\"category\"]==2,\"COLLISION_SEVERITY\"].value_counts().rename_axis(\"Collision_Severity\").reset_index(name=\"YR 2010 (NN CT)\")[\"YR 2010 (NN CT)\"],\n",
    "           dfnnroadcrash2016_cat.loc[dfnnroadcrash2016_cat[\"category\"]==2,\"COLLISION_SEVERITY\"].value_counts().rename_axis(\"Collision_Severity\").reset_index(name=\"YR 2016 (NN CT)\")[\"YR 2016 (NN CT)\"]\n",
    "           ],axis=1)"
   ],
   "metadata": {
    "collapsed": false,
    "pycharm": {
     "name": "#%%\n"
    }
   }
  },
  {
   "cell_type": "code",
   "execution_count": 52,
   "outputs": [
    {
     "data": {
      "text/plain": "   YR 2010 (NN CT)  YR 2016 (NN CT)\n0              597              728\n1              404              509\n2              227              237\n3               33               60\n4                3                8",
      "text/html": "<div>\n<style scoped>\n    .dataframe tbody tr th:only-of-type {\n        vertical-align: middle;\n    }\n\n    .dataframe tbody tr th {\n        vertical-align: top;\n    }\n\n    .dataframe thead th {\n        text-align: right;\n    }\n</style>\n<table border=\"1\" class=\"dataframe\">\n  <thead>\n    <tr style=\"text-align: right;\">\n      <th></th>\n      <th>YR 2010 (NN CT)</th>\n      <th>YR 2016 (NN CT)</th>\n    </tr>\n  </thead>\n  <tbody>\n    <tr>\n      <th>0</th>\n      <td>597</td>\n      <td>728</td>\n    </tr>\n    <tr>\n      <th>1</th>\n      <td>404</td>\n      <td>509</td>\n    </tr>\n    <tr>\n      <th>2</th>\n      <td>227</td>\n      <td>237</td>\n    </tr>\n    <tr>\n      <th>3</th>\n      <td>33</td>\n      <td>60</td>\n    </tr>\n    <tr>\n      <th>4</th>\n      <td>3</td>\n      <td>8</td>\n    </tr>\n  </tbody>\n</table>\n</div>"
     },
     "execution_count": 52,
     "metadata": {},
     "output_type": "execute_result"
    }
   ],
   "source": [
    "pd.concat([dfnnroadcrash2010_cat.loc[dfnnroadcrash2010_cat[\"category\"]==3,\"COLLISION_SEVERITY\"].value_counts().rename_axis(\"Collision_Severity\").reset_index(name=\"YR 2010 (NN CT)\")[\"YR 2010 (NN CT)\"],\n",
    "           dfnnroadcrash2016_cat.loc[dfnnroadcrash2016_cat[\"category\"]==3,\"COLLISION_SEVERITY\"].value_counts().rename_axis(\"Collision_Severity\").reset_index(name=\"YR 2016 (NN CT)\")[\"YR 2016 (NN CT)\"]\n",
    "           ],axis=1)"
   ],
   "metadata": {
    "collapsed": false,
    "pycharm": {
     "name": "#%%\n"
    }
   }
  },
  {
   "cell_type": "code",
   "execution_count": null,
   "outputs": [],
   "source": [],
   "metadata": {
    "collapsed": false,
    "pycharm": {
     "name": "#%%\n"
    }
   }
  },
  {
   "cell_type": "code",
   "execution_count": null,
   "outputs": [],
   "source": [],
   "metadata": {
    "collapsed": false,
    "pycharm": {
     "name": "#%%\n"
    }
   }
  },
  {
   "cell_type": "code",
   "execution_count": null,
   "outputs": [],
   "source": [],
   "metadata": {
    "collapsed": false,
    "pycharm": {
     "name": "#%%\n"
    }
   }
  },
  {
   "cell_type": "code",
   "execution_count": 58,
   "outputs": [
    {
     "data": {
      "text/plain": "   YR 2010 (NN_TAZ)  YR 2016 (NN_TAZ)\n0              3732              3876\n1              1260              1538\n2               788               882",
      "text/html": "<div>\n<style scoped>\n    .dataframe tbody tr th:only-of-type {\n        vertical-align: middle;\n    }\n\n    .dataframe tbody tr th {\n        vertical-align: top;\n    }\n\n    .dataframe thead th {\n        text-align: right;\n    }\n</style>\n<table border=\"1\" class=\"dataframe\">\n  <thead>\n    <tr style=\"text-align: right;\">\n      <th></th>\n      <th>YR 2010 (NN_TAZ)</th>\n      <th>YR 2016 (NN_TAZ)</th>\n    </tr>\n  </thead>\n  <tbody>\n    <tr>\n      <th>0</th>\n      <td>3732</td>\n      <td>3876</td>\n    </tr>\n    <tr>\n      <th>1</th>\n      <td>1260</td>\n      <td>1538</td>\n    </tr>\n    <tr>\n      <th>2</th>\n      <td>788</td>\n      <td>882</td>\n    </tr>\n  </tbody>\n</table>\n</div>"
     },
     "execution_count": 58,
     "metadata": {},
     "output_type": "execute_result"
    }
   ],
   "source": [
    "pd.concat([dfnnroadcrash2010taz_cat['category'].value_counts().rename_axis(\"TotalCrashes\").reset_index(name=\"YR 2010 (NN_TAZ)\")[\"YR 2010 (NN_TAZ)\"],\n",
    "           dfnnroadcrash2016taz_cat['category'].value_counts().rename_axis(\"TotalCrashes\").reset_index(name=\"YR 2016 (NN_TAZ)\")[\"YR 2016 (NN_TAZ)\"],\n",
    "           ],axis=1)"
   ],
   "metadata": {
    "collapsed": false,
    "pycharm": {
     "name": "#%%\n"
    }
   }
  },
  {
   "cell_type": "code",
   "execution_count": 55,
   "outputs": [
    {
     "data": {
      "text/plain": "   YR 2010 (NN TAZ)  YR 2016 (NN TAZ)\n0               504               539\n1               192               264\n2                79                65\n3                10                11\n4                 3                 3",
      "text/html": "<div>\n<style scoped>\n    .dataframe tbody tr th:only-of-type {\n        vertical-align: middle;\n    }\n\n    .dataframe tbody tr th {\n        vertical-align: top;\n    }\n\n    .dataframe thead th {\n        text-align: right;\n    }\n</style>\n<table border=\"1\" class=\"dataframe\">\n  <thead>\n    <tr style=\"text-align: right;\">\n      <th></th>\n      <th>YR 2010 (NN TAZ)</th>\n      <th>YR 2016 (NN TAZ)</th>\n    </tr>\n  </thead>\n  <tbody>\n    <tr>\n      <th>0</th>\n      <td>504</td>\n      <td>539</td>\n    </tr>\n    <tr>\n      <th>1</th>\n      <td>192</td>\n      <td>264</td>\n    </tr>\n    <tr>\n      <th>2</th>\n      <td>79</td>\n      <td>65</td>\n    </tr>\n    <tr>\n      <th>3</th>\n      <td>10</td>\n      <td>11</td>\n    </tr>\n    <tr>\n      <th>4</th>\n      <td>3</td>\n      <td>3</td>\n    </tr>\n  </tbody>\n</table>\n</div>"
     },
     "execution_count": 55,
     "metadata": {},
     "output_type": "execute_result"
    }
   ],
   "source": [
    "pd.concat([dfnnroadcrash2010taz_cat.loc[dfnnroadcrash2010taz_cat[\"category\"]==1,\"COLLISION_SEVERITY\"].value_counts().rename_axis(\"Collision_Severity\").reset_index(name=\"YR 2010 (NN TAZ)\")[\"YR 2010 (NN TAZ)\"],\n",
    "           dfnnroadcrash2016taz_cat.loc[dfnnroadcrash2016taz_cat[\"category\"]==1,\"COLLISION_SEVERITY\"].value_counts().rename_axis(\"Collision_Severity\").reset_index(name=\"YR 2016 (NN TAZ)\")[\"YR 2016 (NN TAZ)\"]\n",
    "           ],axis=1)"
   ],
   "metadata": {
    "collapsed": false,
    "pycharm": {
     "name": "#%%\n"
    }
   }
  },
  {
   "cell_type": "code",
   "execution_count": 56,
   "outputs": [
    {
     "data": {
      "text/plain": "   YR 2010 (NN TAZ)  YR 2016 (NN TAZ)\n0              1546              1599\n1              1265              1402\n2               764               668\n3               138               188\n4                19                19",
      "text/html": "<div>\n<style scoped>\n    .dataframe tbody tr th:only-of-type {\n        vertical-align: middle;\n    }\n\n    .dataframe tbody tr th {\n        vertical-align: top;\n    }\n\n    .dataframe thead th {\n        text-align: right;\n    }\n</style>\n<table border=\"1\" class=\"dataframe\">\n  <thead>\n    <tr style=\"text-align: right;\">\n      <th></th>\n      <th>YR 2010 (NN TAZ)</th>\n      <th>YR 2016 (NN TAZ)</th>\n    </tr>\n  </thead>\n  <tbody>\n    <tr>\n      <th>0</th>\n      <td>1546</td>\n      <td>1599</td>\n    </tr>\n    <tr>\n      <th>1</th>\n      <td>1265</td>\n      <td>1402</td>\n    </tr>\n    <tr>\n      <th>2</th>\n      <td>764</td>\n      <td>668</td>\n    </tr>\n    <tr>\n      <th>3</th>\n      <td>138</td>\n      <td>188</td>\n    </tr>\n    <tr>\n      <th>4</th>\n      <td>19</td>\n      <td>19</td>\n    </tr>\n  </tbody>\n</table>\n</div>"
     },
     "execution_count": 56,
     "metadata": {},
     "output_type": "execute_result"
    }
   ],
   "source": [
    "pd.concat([dfnnroadcrash2010taz_cat.loc[dfnnroadcrash2010taz_cat[\"category\"]==2,\"COLLISION_SEVERITY\"].value_counts().rename_axis(\"Collision_Severity\").reset_index(name=\"YR 2010 (NN TAZ)\")[\"YR 2010 (NN TAZ)\"],\n",
    "           dfnnroadcrash2016taz_cat.loc[dfnnroadcrash2016taz_cat[\"category\"]==2,\"COLLISION_SEVERITY\"].value_counts().rename_axis(\"Collision_Severity\").reset_index(name=\"YR 2016 (NN TAZ)\")[\"YR 2016 (NN TAZ)\"]\n",
    "           ],axis=1)"
   ],
   "metadata": {
    "collapsed": false,
    "pycharm": {
     "name": "#%%\n"
    }
   }
  },
  {
   "cell_type": "code",
   "execution_count": 57,
   "outputs": [
    {
     "data": {
      "text/plain": "   YR 2010 (NN TAZ)  YR 2016 (NN TAZ)\n0               595               727\n1               402               507\n2               227               236\n3                33                60\n4                 3                 8",
      "text/html": "<div>\n<style scoped>\n    .dataframe tbody tr th:only-of-type {\n        vertical-align: middle;\n    }\n\n    .dataframe tbody tr th {\n        vertical-align: top;\n    }\n\n    .dataframe thead th {\n        text-align: right;\n    }\n</style>\n<table border=\"1\" class=\"dataframe\">\n  <thead>\n    <tr style=\"text-align: right;\">\n      <th></th>\n      <th>YR 2010 (NN TAZ)</th>\n      <th>YR 2016 (NN TAZ)</th>\n    </tr>\n  </thead>\n  <tbody>\n    <tr>\n      <th>0</th>\n      <td>595</td>\n      <td>727</td>\n    </tr>\n    <tr>\n      <th>1</th>\n      <td>402</td>\n      <td>507</td>\n    </tr>\n    <tr>\n      <th>2</th>\n      <td>227</td>\n      <td>236</td>\n    </tr>\n    <tr>\n      <th>3</th>\n      <td>33</td>\n      <td>60</td>\n    </tr>\n    <tr>\n      <th>4</th>\n      <td>3</td>\n      <td>8</td>\n    </tr>\n  </tbody>\n</table>\n</div>"
     },
     "execution_count": 57,
     "metadata": {},
     "output_type": "execute_result"
    }
   ],
   "source": [
    "pd.concat([dfnnroadcrash2010taz_cat.loc[dfnnroadcrash2010taz_cat[\"category\"]==3,\"COLLISION_SEVERITY\"].value_counts().rename_axis(\"Collision_Severity\").reset_index(name=\"YR 2010 (NN TAZ)\")[\"YR 2010 (NN TAZ)\"],\n",
    "           dfnnroadcrash2016taz_cat.loc[dfnnroadcrash2016taz_cat[\"category\"]==3,\"COLLISION_SEVERITY\"].value_counts().rename_axis(\"Collision_Severity\").reset_index(name=\"YR 2016 (NN TAZ)\")[\"YR 2016 (NN TAZ)\"]\n",
    "           ],axis=1)"
   ],
   "metadata": {
    "collapsed": false,
    "pycharm": {
     "name": "#%%\n"
    }
   }
  },
  {
   "cell_type": "code",
   "execution_count": null,
   "outputs": [],
   "source": [],
   "metadata": {
    "collapsed": false,
    "pycharm": {
     "name": "#%%\n"
    }
   }
  },
  {
   "cell_type": "code",
   "execution_count": null,
   "outputs": [],
   "source": [],
   "metadata": {
    "collapsed": false,
    "pycharm": {
     "name": "#%%\n"
    }
   }
  },
  {
   "cell_type": "code",
   "execution_count": null,
   "outputs": [],
   "source": [],
   "metadata": {
    "collapsed": false,
    "pycharm": {
     "name": "#%%\n"
    }
   }
  },
  {
   "cell_type": "code",
   "execution_count": null,
   "outputs": [],
   "source": [],
   "metadata": {
    "collapsed": false,
    "pycharm": {
     "name": "#%%\n"
    }
   }
  },
  {
   "cell_type": "code",
   "execution_count": null,
   "outputs": [],
   "source": [
    "# San Francisco Polygon Tract information"
   ],
   "metadata": {
    "collapsed": false,
    "pycharm": {
     "name": "#%%\n"
    }
   }
  },
  {
   "cell_type": "code",
   "execution_count": 36,
   "outputs": [
    {
     "name": "stdout",
     "output_type": "stream",
     "text": [
      "Number of Census Tracts: 197\n"
     ]
    }
   ],
   "source": [
    "dfsfct = gpd.read_file(BASE_DIR.parent.joinpath(folder_path,\"Feb162022\",\"SF_CensusTract_PCS.geojson\"), crs = \"EPSG:3857\")\n",
    "print(f\"Number of Census Tracts: {len(dfsfct['tractce10'])}\")"
   ],
   "metadata": {
    "collapsed": false,
    "pycharm": {
     "name": "#%%\n"
    }
   }
  },
  {
   "cell_type": "code",
   "execution_count": 46,
   "outputs": [
    {
     "name": "stdout",
     "output_type": "stream",
     "text": [
      "Number of TAZ: 978\n"
     ]
    }
   ],
   "source": [
    "# San Francisco TAZ information\n",
    "dfsftaz = gpd.read_file(BASE_DIR.parent.joinpath(folder_path,\"Feb162022\",\"TAZ\",\"SF_TAZ_rectified_PCS.geojson\"), crs = \"EPSG:3857\")\n",
    "print(f\"Number of TAZ: {len(dfsftaz['TAZ'])}\")"
   ],
   "metadata": {
    "collapsed": false,
    "pycharm": {
     "name": "#%%\n"
    }
   }
  },
  {
   "cell_type": "code",
   "execution_count": null,
   "outputs": [],
   "source": [],
   "metadata": {
    "collapsed": false,
    "pycharm": {
     "name": "#%%\n"
    }
   }
  },
  {
   "cell_type": "code",
   "execution_count": null,
   "outputs": [],
   "source": [],
   "metadata": {
    "collapsed": false,
    "pycharm": {
     "name": "#%%\n"
    }
   }
  },
  {
   "cell_type": "code",
   "execution_count": null,
   "outputs": [],
   "source": [],
   "metadata": {
    "collapsed": false,
    "pycharm": {
     "name": "#%%\n"
    }
   }
  },
  {
   "cell_type": "code",
   "execution_count": null,
   "outputs": [],
   "source": [],
   "metadata": {
    "collapsed": false,
    "pycharm": {
     "name": "#%%\n"
    }
   }
  },
  {
   "cell_type": "code",
   "execution_count": null,
   "outputs": [],
   "source": [],
   "metadata": {
    "collapsed": false,
    "pycharm": {
     "name": "#%%\n"
    }
   }
  },
  {
   "cell_type": "code",
   "execution_count": null,
   "outputs": [],
   "source": [],
   "metadata": {
    "collapsed": false,
    "pycharm": {
     "name": "#%%\n"
    }
   }
  },
  {
   "cell_type": "code",
   "execution_count": null,
   "outputs": [],
   "source": [],
   "metadata": {
    "collapsed": false,
    "pycharm": {
     "name": "#%%\n"
    }
   }
  },
  {
   "cell_type": "code",
   "execution_count": null,
   "outputs": [],
   "source": [],
   "metadata": {
    "collapsed": false,
    "pycharm": {
     "name": "#%%\n"
    }
   }
  },
  {
   "cell_type": "code",
   "execution_count": null,
   "outputs": [],
   "source": [],
   "metadata": {
    "collapsed": false,
    "pycharm": {
     "name": "#%%\n"
    }
   }
  },
  {
   "cell_type": "code",
   "execution_count": null,
   "outputs": [],
   "source": [],
   "metadata": {
    "collapsed": false,
    "pycharm": {
     "name": "#%%\n"
    }
   }
  },
  {
   "cell_type": "code",
   "execution_count": null,
   "outputs": [],
   "source": [],
   "metadata": {
    "collapsed": false,
    "pycharm": {
     "name": "#%%\n"
    }
   }
  },
  {
   "cell_type": "code",
   "execution_count": null,
   "outputs": [],
   "source": [],
   "metadata": {
    "collapsed": false,
    "pycharm": {
     "name": "#%%\n"
    }
   }
  },
  {
   "cell_type": "code",
   "execution_count": null,
   "outputs": [],
   "source": [],
   "metadata": {
    "collapsed": false,
    "pycharm": {
     "name": "#%%\n"
    }
   }
  },
  {
   "cell_type": "code",
   "execution_count": null,
   "outputs": [],
   "source": [],
   "metadata": {
    "collapsed": false,
    "pycharm": {
     "name": "#%%\n"
    }
   }
  },
  {
   "cell_type": "code",
   "execution_count": null,
   "outputs": [],
   "source": [],
   "metadata": {
    "collapsed": false,
    "pycharm": {
     "name": "#%%\n"
    }
   }
  },
  {
   "cell_type": "code",
   "execution_count": null,
   "outputs": [],
   "source": [],
   "metadata": {
    "collapsed": false,
    "pycharm": {
     "name": "#%%\n"
    }
   }
  },
  {
   "cell_type": "code",
   "execution_count": null,
   "outputs": [],
   "source": [],
   "metadata": {
    "collapsed": false,
    "pycharm": {
     "name": "#%%\n"
    }
   }
  },
  {
   "cell_type": "code",
   "execution_count": null,
   "outputs": [],
   "source": [],
   "metadata": {
    "collapsed": false,
    "pycharm": {
     "name": "#%%\n"
    }
   }
  },
  {
   "cell_type": "code",
   "execution_count": null,
   "outputs": [],
   "source": [],
   "metadata": {
    "collapsed": false,
    "pycharm": {
     "name": "#%%\n"
    }
   }
  },
  {
   "cell_type": "code",
   "execution_count": null,
   "outputs": [],
   "source": [],
   "metadata": {
    "collapsed": false,
    "pycharm": {
     "name": "#%%\n"
    }
   }
  },
  {
   "cell_type": "code",
   "execution_count": null,
   "outputs": [],
   "source": [],
   "metadata": {
    "collapsed": false,
    "pycharm": {
     "name": "#%%\n"
    }
   }
  },
  {
   "cell_type": "code",
   "execution_count": null,
   "outputs": [],
   "source": [],
   "metadata": {
    "collapsed": false,
    "pycharm": {
     "name": "#%%\n"
    }
   }
  },
  {
   "cell_type": "code",
   "execution_count": null,
   "outputs": [],
   "source": [],
   "metadata": {
    "collapsed": false,
    "pycharm": {
     "name": "#%%\n"
    }
   }
  },
  {
   "cell_type": "code",
   "execution_count": null,
   "outputs": [],
   "source": [],
   "metadata": {
    "collapsed": false,
    "pycharm": {
     "name": "#%%\n"
    }
   }
  },
  {
   "cell_type": "code",
   "execution_count": null,
   "outputs": [],
   "source": [],
   "metadata": {
    "collapsed": false,
    "pycharm": {
     "name": "#%%\n"
    }
   }
  },
  {
   "cell_type": "code",
   "execution_count": null,
   "outputs": [],
   "source": [],
   "metadata": {
    "collapsed": false,
    "pycharm": {
     "name": "#%%\n"
    }
   }
  },
  {
   "cell_type": "code",
   "execution_count": null,
   "outputs": [],
   "source": [],
   "metadata": {
    "collapsed": false,
    "pycharm": {
     "name": "#%%\n"
    }
   }
  },
  {
   "cell_type": "code",
   "execution_count": null,
   "outputs": [],
   "source": [],
   "metadata": {
    "collapsed": false,
    "pycharm": {
     "name": "#%%\n"
    }
   }
  },
  {
   "cell_type": "code",
   "execution_count": null,
   "outputs": [],
   "source": [],
   "metadata": {
    "collapsed": false,
    "pycharm": {
     "name": "#%%\n"
    }
   }
  },
  {
   "cell_type": "code",
   "execution_count": null,
   "outputs": [],
   "source": [],
   "metadata": {
    "collapsed": false,
    "pycharm": {
     "name": "#%%\n"
    }
   }
  },
  {
   "cell_type": "code",
   "execution_count": null,
   "outputs": [],
   "source": [],
   "metadata": {
    "collapsed": false,
    "pycharm": {
     "name": "#%%\n"
    }
   }
  },
  {
   "cell_type": "code",
   "execution_count": null,
   "outputs": [],
   "source": [],
   "metadata": {
    "collapsed": false,
    "pycharm": {
     "name": "#%%\n"
    }
   }
  }
 ],
 "metadata": {
  "kernelspec": {
   "display_name": "Python 3",
   "language": "python",
   "name": "python3"
  },
  "language_info": {
   "codemirror_mode": {
    "name": "ipython",
    "version": 2
   },
   "file_extension": ".py",
   "mimetype": "text/x-python",
   "name": "python",
   "nbconvert_exporter": "python",
   "pygments_lexer": "ipython2",
   "version": "2.7.6"
  }
 },
 "nbformat": 4,
 "nbformat_minor": 0
}