{
 "cells": [
  {
   "cell_type": "code",
   "execution_count": 1,
   "id": "6c476581",
   "metadata": {},
   "outputs": [],
   "source": [
    "import pandas as pd\n",
    "import geopandas as gpd\n",
    "import matplotlib.pyplot as plt\n",
    "import numpy as np\n",
    "from pyproj import CRS\n",
    "import pathlib\n",
    "from pathlib import Path\n",
    "from shapely import wkt\n",
    "from tqdm import tqdm\n",
    "\n",
    "import math\n",
    "import codecs\n",
    "import osm2geojson\n",
    "from shapely import wkt\n",
    "\n",
    "import gzip\n",
    "from xml.etree.ElementTree import Element, SubElement, Comment, tostring\n",
    "import xml.etree.ElementTree as ET\n",
    "\n",
    "# set the working directory\n",
    "BASE_DIR = Path.cwd()\n",
    "# print(BASE_DIR)"
   ]
  },
  {
   "cell_type": "code",
   "execution_count": 2,
   "id": "690ded13",
   "metadata": {},
   "outputs": [
    {
     "name": "stderr",
     "output_type": "stream",
     "text": [
      "c:\\users\\goyal\\.virtualenvs\\overpass_turbo-zwxzihl_\\lib\\site-packages\\IPython\\core\\interactiveshell.py:3169: DtypeWarning: Columns (4,6,78,79) have mixed types.Specify dtype option on import or set low_memory=False.\n",
      "  has_raised = await self.run_ast_nodes(code_ast.body, cell_name,\n"
     ]
    }
   ],
   "source": [
    "# read the updated SWITRS_crash file and update the ref_latlong column, if empty\n",
    "df = pd.read_csv(BASE_DIR.parent.joinpath(\"Exported_Files\",\"Road_Crashes_SWITRS_TIMS_matched_output_v3.4.csv\"))"
   ]
  },
  {
   "cell_type": "code",
   "execution_count": 3,
   "id": "fd192142",
   "metadata": {},
   "outputs": [],
   "source": [
    "# Create  multiple columns and assign them default values\n",
    "new_cols = [\"Total_Crash\",\"COUNT_Fatal\", \"COUNT_Severe_Injury\", \"COUNT_Visible_Injury\", \"COUNT_Other_Injury\", \"COUNT_PDO\"]\n",
    "new_vals = [1,0,0,0,0,0]\n",
    "df = df.reindex(columns=df.columns.tolist() + new_cols)   # add empty cols\n",
    "df[new_cols] = new_vals  # multi-column assignment works for existing cols\n",
    "\n",
    "# assign values depending upon the collision severity\n",
    "df.loc[df[\"COLLISION_SEVERITY\"]==1, \"COUNT_Fatal\"] = 1\n",
    "df.loc[df[\"COLLISION_SEVERITY\"]==2, \"COUNT_Severe_Injury\"] = 1\n",
    "df.loc[df[\"COLLISION_SEVERITY\"]==3, \"COUNT_Visible_Injury\"] = 1\n",
    "df.loc[df[\"COLLISION_SEVERITY\"]==4, \"COUNT_Other_Injury\"] = 1\n",
    "df.loc[df[\"COLLISION_SEVERITY\"]==0, \"COUNT_PDO\"] = 1"
   ]
  },
  {
   "cell_type": "code",
   "execution_count": 4,
   "id": "2b28befb",
   "metadata": {},
   "outputs": [],
   "source": [
    "df.loc[df[\"COLLISION_SEVERITY\"]==1, \"COUNT_Fatal\"] = 1\n",
    "df.loc[df[\"COLLISION_SEVERITY\"]==2, \"COUNT_Severe_Injury\"] = 1\n",
    "df.loc[df[\"COLLISION_SEVERITY\"]==3, \"COUNT_Visible_Injury\"] = 1\n",
    "df.loc[df[\"COLLISION_SEVERITY\"]==4, \"COUNT_Other_Injury\"] = 1\n",
    "df.loc[df[\"COLLISION_SEVERITY\"]==0, \"COUNT_PDO\"] = 1"
   ]
  },
  {
   "cell_type": "code",
   "execution_count": 5,
   "id": "711e6dba",
   "metadata": {},
   "outputs": [],
   "source": [
    "df.to_csv(BASE_DIR.parent.joinpath(\"Exported_Files\",\"Road_Crashes_SWITRS_TIMS_matched_output_modified.csv\"))"
   ]
  }
 ],
 "metadata": {
  "kernelspec": {
   "display_name": "Python 3",
   "language": "python",
   "name": "python3"
  },
  "language_info": {
   "codemirror_mode": {
    "name": "ipython",
    "version": 3
   },
   "file_extension": ".py",
   "mimetype": "text/x-python",
   "name": "python",
   "nbconvert_exporter": "python",
   "pygments_lexer": "ipython3",
   "version": "3.9.5"
  }
 },
 "nbformat": 4,
 "nbformat_minor": 5
}
