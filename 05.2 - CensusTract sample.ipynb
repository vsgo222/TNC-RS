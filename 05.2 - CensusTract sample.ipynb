{
 "cells": [
  {
   "cell_type": "code",
   "execution_count": 2,
   "metadata": {
    "collapsed": true
   },
   "outputs": [],
   "source": [
    "import pandas as pd\n",
    "import geopandas as gpd\n",
    "import matplotlib.pyplot as plt\n",
    "import numpy as np\n",
    "from pyproj import CRS\n",
    "import pathlib\n",
    "from pathlib import Path\n",
    "from shapely import wkt\n",
    "from tqdm import tqdm\n",
    "\n",
    "import math\n",
    "import codecs\n",
    "import osm2geojson\n",
    "from shapely import wkt\n",
    "\n",
    "import gzip\n",
    "from xml.etree.ElementTree import Element, SubElement, Comment, tostring\n",
    "import xml.etree.ElementTree as ET\n",
    "\n",
    "import os\n",
    "\n",
    "# set the working directory\n",
    "BASE_DIR = Path.cwd()\n",
    "# define the exported folder path\n",
    "# Check if folder exists\n",
    "folder_path = pathlib.Path(BASE_DIR.parent.joinpath(\"Exported_Files\",\"census_tract\",\"agg_network\"))\n",
    "folder_path.mkdir(parents=True, exist_ok=True)\n",
    "# print(BASE_DIR)"
   ]
  },
  {
   "cell_type": "code",
   "execution_count": 35,
   "outputs": [],
   "source": [
    "road2010 = pd.read_csv(BASE_DIR.parent.joinpath(\"Exported_Files\",\"census_tract\",\"agg_network\",\"615\",\"RoadNetwork_2010.csv\"))\n",
    "road2010[\"ACCIDENT_YEAR\"] = 2010\n",
    "road2016 = pd.read_csv(BASE_DIR.parent.joinpath(\"Exported_Files\",\"census_tract\",\"agg_network\",\"615\",\"RoadNetwork_2016.csv\"))\n",
    "road2016[\"ACCIDENT_YEAR\"] = 2016\n",
    "dfrdntwrk = pd.concat([road2010,road2016], ignore_index=True)\n",
    "dfrdntwrk = dfrdntwrk.groupby([\"ACCIDENT_YEAR\",\"tractce10\"]).agg({\"Tot_Vol\":\"sum\",\n",
    "                                                                  \"Tot_CAP\":\"sum\",\n",
    "                                                                  \"OOS\":\"sum\",\n",
    "                                                                  \"PUDO\":\"sum\",\n",
    "                                                                  \"CSPD_1\":\"mean\",\n",
    "                                                                  \"DISTANCE\":\"sum\",\n",
    "                                                                  \"TNC_Tot_Vol\":\"sum\",\n",
    "                                                                  \"NON_TNC_Tot_Vol\":\"sum\",\n",
    "                                                                  \"Tot_Vol_yr\":\"sum\",\n",
    "                                                                  \"Tot_CAP_yr\":\"sum\",\n",
    "                                                                  \"OOS_yr\":\"sum\",\n",
    "                                                                  \"PUDO_yr\":\"sum\",\n",
    "                                                                  \"TNC_Tot_Vol_yr\":\"sum\",\n",
    "                                                                  \"NON_TNC_Tot_Vol_yr\":\"sum\",\n",
    "                                                                  })\n",
    "\n",
    "crash2010 = pd.read_csv(BASE_DIR.parent.joinpath(\"Exported_Files\",\"census_tract\",\"agg_network\",\"615\",\"RoadCrash_2010.csv\"))\n",
    "crash2016 = pd.read_csv(BASE_DIR.parent.joinpath(\"Exported_Files\",\"census_tract\",\"agg_network\",\"615\",\"RoadCrash_2016.csv\"))\n",
    "dfcrash = pd.concat([crash2010,crash2016], ignore_index=True)\n",
    "dfcrash = dfcrash.groupby([\"ACCIDENT_YEAR\",\"tractce10\"])[\"Total_Crash\"].sum()\n",
    "\n",
    "\n",
    "df = pd.merge(dfrdntwrk,dfcrash,how=\"inner\",right_on=[\"ACCIDENT_YEAR\",\"tractce10\"],left_on=[\"ACCIDENT_YEAR\",\"tractce10\"])\n",
    "df.to_csv(BASE_DIR.parent.joinpath(\"Exported_Files\",\"census_tract\",\"agg_network\",\"615\",\"combined.csv\"))"
   ],
   "metadata": {
    "collapsed": false,
    "pycharm": {
     "name": "#%%\n"
    }
   }
  },
  {
   "cell_type": "code",
   "execution_count": 20,
   "outputs": [
    {
     "data": {
      "text/plain": "                              Tot_Vol           OOS         PUDO     CSPD_1  \\\nACCIDENT_YEAR tractce10                                                       \n2010          10500      1.444792e+04       0.00000      0.00000  13.244844   \n              11700      2.532728e+05       0.00000      0.00000  12.244090   \n              17601      9.497495e+04       0.00000      0.00000  12.763055   \n              17801      2.892639e+04       0.00000      0.00000  13.477744   \n              17902      2.383068e+05       0.00000      0.00000  42.346635   \n              18000      9.416400e+04       0.00000      0.00000  22.796862   \n              60700      3.508109e+04       0.00000      0.00000  16.237725   \n              61500      4.570406e+06       0.00000      0.00000  14.470803   \n2016          10500      1.961337e+04    2833.78331    483.76667  13.120299   \n              11700      3.032283e+05   10097.49993   1463.74999  11.345022   \n              17601      1.209233e+05    2548.73334    573.71668  11.389737   \n              17801      3.623099e+04    3421.58328    278.23333  11.528556   \n              17902      2.539898e+05       0.00000      0.00000  39.753925   \n              18000      1.097326e+05    3096.15002    209.86666  21.048093   \n              60700      4.971545e+04    4118.23335    477.33333  15.556147   \n              61500      5.682131e+06  212173.89970  29264.46683  13.594823   \n\n                         DISTANCE  \nACCIDENT_YEAR tractce10            \n2010          10500       0.32000  \n              11700       0.80540  \n              17601       0.50000  \n              17801       0.18000  \n              17902       3.36820  \n              18000       0.54000  \n              60700       0.81000  \n              61500      32.94632  \n2016          10500       0.32000  \n              11700       0.80540  \n              17601       0.50000  \n              17801       0.18000  \n              17902       3.36820  \n              18000       0.54000  \n              60700       0.81000  \n              61500      32.94632  ",
      "text/html": "<div>\n<style scoped>\n    .dataframe tbody tr th:only-of-type {\n        vertical-align: middle;\n    }\n\n    .dataframe tbody tr th {\n        vertical-align: top;\n    }\n\n    .dataframe thead th {\n        text-align: right;\n    }\n</style>\n<table border=\"1\" class=\"dataframe\">\n  <thead>\n    <tr style=\"text-align: right;\">\n      <th></th>\n      <th></th>\n      <th>Tot_Vol</th>\n      <th>OOS</th>\n      <th>PUDO</th>\n      <th>CSPD_1</th>\n      <th>DISTANCE</th>\n    </tr>\n    <tr>\n      <th>ACCIDENT_YEAR</th>\n      <th>tractce10</th>\n      <th></th>\n      <th></th>\n      <th></th>\n      <th></th>\n      <th></th>\n    </tr>\n  </thead>\n  <tbody>\n    <tr>\n      <th rowspan=\"8\" valign=\"top\">2010</th>\n      <th>10500</th>\n      <td>1.444792e+04</td>\n      <td>0.00000</td>\n      <td>0.00000</td>\n      <td>13.244844</td>\n      <td>0.32000</td>\n    </tr>\n    <tr>\n      <th>11700</th>\n      <td>2.532728e+05</td>\n      <td>0.00000</td>\n      <td>0.00000</td>\n      <td>12.244090</td>\n      <td>0.80540</td>\n    </tr>\n    <tr>\n      <th>17601</th>\n      <td>9.497495e+04</td>\n      <td>0.00000</td>\n      <td>0.00000</td>\n      <td>12.763055</td>\n      <td>0.50000</td>\n    </tr>\n    <tr>\n      <th>17801</th>\n      <td>2.892639e+04</td>\n      <td>0.00000</td>\n      <td>0.00000</td>\n      <td>13.477744</td>\n      <td>0.18000</td>\n    </tr>\n    <tr>\n      <th>17902</th>\n      <td>2.383068e+05</td>\n      <td>0.00000</td>\n      <td>0.00000</td>\n      <td>42.346635</td>\n      <td>3.36820</td>\n    </tr>\n    <tr>\n      <th>18000</th>\n      <td>9.416400e+04</td>\n      <td>0.00000</td>\n      <td>0.00000</td>\n      <td>22.796862</td>\n      <td>0.54000</td>\n    </tr>\n    <tr>\n      <th>60700</th>\n      <td>3.508109e+04</td>\n      <td>0.00000</td>\n      <td>0.00000</td>\n      <td>16.237725</td>\n      <td>0.81000</td>\n    </tr>\n    <tr>\n      <th>61500</th>\n      <td>4.570406e+06</td>\n      <td>0.00000</td>\n      <td>0.00000</td>\n      <td>14.470803</td>\n      <td>32.94632</td>\n    </tr>\n    <tr>\n      <th rowspan=\"8\" valign=\"top\">2016</th>\n      <th>10500</th>\n      <td>1.961337e+04</td>\n      <td>2833.78331</td>\n      <td>483.76667</td>\n      <td>13.120299</td>\n      <td>0.32000</td>\n    </tr>\n    <tr>\n      <th>11700</th>\n      <td>3.032283e+05</td>\n      <td>10097.49993</td>\n      <td>1463.74999</td>\n      <td>11.345022</td>\n      <td>0.80540</td>\n    </tr>\n    <tr>\n      <th>17601</th>\n      <td>1.209233e+05</td>\n      <td>2548.73334</td>\n      <td>573.71668</td>\n      <td>11.389737</td>\n      <td>0.50000</td>\n    </tr>\n    <tr>\n      <th>17801</th>\n      <td>3.623099e+04</td>\n      <td>3421.58328</td>\n      <td>278.23333</td>\n      <td>11.528556</td>\n      <td>0.18000</td>\n    </tr>\n    <tr>\n      <th>17902</th>\n      <td>2.539898e+05</td>\n      <td>0.00000</td>\n      <td>0.00000</td>\n      <td>39.753925</td>\n      <td>3.36820</td>\n    </tr>\n    <tr>\n      <th>18000</th>\n      <td>1.097326e+05</td>\n      <td>3096.15002</td>\n      <td>209.86666</td>\n      <td>21.048093</td>\n      <td>0.54000</td>\n    </tr>\n    <tr>\n      <th>60700</th>\n      <td>4.971545e+04</td>\n      <td>4118.23335</td>\n      <td>477.33333</td>\n      <td>15.556147</td>\n      <td>0.81000</td>\n    </tr>\n    <tr>\n      <th>61500</th>\n      <td>5.682131e+06</td>\n      <td>212173.89970</td>\n      <td>29264.46683</td>\n      <td>13.594823</td>\n      <td>32.94632</td>\n    </tr>\n  </tbody>\n</table>\n</div>"
     },
     "execution_count": 20,
     "metadata": {},
     "output_type": "execute_result"
    }
   ],
   "source": [],
   "metadata": {
    "collapsed": false,
    "pycharm": {
     "name": "#%%\n"
    }
   }
  },
  {
   "cell_type": "code",
   "execution_count": 30,
   "outputs": [],
   "source": [
    "crash2010 = pd.read_csv(BASE_DIR.parent.joinpath(\"Exported_Files\",\"census_tract\",\"agg_network\",\"615\",\"RoadCrash_2010.csv\"))\n",
    "crash2016 = pd.read_csv(BASE_DIR.parent.joinpath(\"Exported_Files\",\"census_tract\",\"agg_network\",\"615\",\"RoadCrash_2016.csv\"))\n",
    "dfcrash = pd.concat([crash2010,crash2016], ignore_index=True)\n",
    "dfcrash = dfcrash.groupby([\"ACCIDENT_YEAR\",\"tractce10\"])[\"Total_Crash\"].sum()"
   ],
   "metadata": {
    "collapsed": false,
    "pycharm": {
     "name": "#%%\n"
    }
   }
  },
  {
   "cell_type": "code",
   "execution_count": 32,
   "outputs": [],
   "source": [
    "df = pd.merge(dfrdntwrk,dfcrash,how=\"inner\",right_on=[\"ACCIDENT_YEAR\",\"tractce10\"],left_on=[\"ACCIDENT_YEAR\",\"tractce10\"])"
   ],
   "metadata": {
    "collapsed": false,
    "pycharm": {
     "name": "#%%\n"
    }
   }
  },
  {
   "cell_type": "code",
   "execution_count": 34,
   "outputs": [],
   "source": [
    "df.to_csv(BASE_DIR.parent.joinpath(\"Exported_Files\",\"census_tract\",\"agg_network\",\"615\",\"combined.csv\"))"
   ],
   "metadata": {
    "collapsed": false,
    "pycharm": {
     "name": "#%%\n"
    }
   }
  },
  {
   "cell_type": "code",
   "execution_count": 5,
   "outputs": [],
   "source": [
    "crash = np.random.randint(0,326,size=(200,1))"
   ],
   "metadata": {
    "collapsed": false,
    "pycharm": {
     "name": "#%%\n"
    }
   }
  },
  {
   "cell_type": "code",
   "execution_count": 7,
   "outputs": [],
   "source": [
    "PUDO = np.random.randint(0,30000,size=(200,1))"
   ],
   "metadata": {
    "collapsed": false,
    "pycharm": {
     "name": "#%%\n"
    }
   }
  },
  {
   "cell_type": "code",
   "execution_count": 22,
   "outputs": [],
   "source": [
    "VMT_mil = np.random.uniform(0,300,size=(200,1))"
   ],
   "metadata": {
    "collapsed": false,
    "pycharm": {
     "name": "#%%\n"
    }
   }
  },
  {
   "cell_type": "code",
   "execution_count": 34,
   "outputs": [
    {
     "ename": "ValueError",
     "evalue": "Cannot set a frame with no defined index and a value that cannot be converted to a Series",
     "output_type": "error",
     "traceback": [
      "\u001B[1;31m---------------------------------------------------------------------------\u001B[0m",
      "\u001B[1;31mValueError\u001B[0m                                Traceback (most recent call last)",
      "File \u001B[1;32mc:\\users\\goyal\\.virtualenvs\\overpass_turbo-zwxzihl_\\lib\\site-packages\\pandas\\core\\frame.py:3900\u001B[0m, in \u001B[0;36mDataFrame._ensure_valid_index\u001B[1;34m(self, value)\u001B[0m\n\u001B[0;32m   3899\u001B[0m \u001B[38;5;28;01mtry\u001B[39;00m:\n\u001B[1;32m-> 3900\u001B[0m     value \u001B[38;5;241m=\u001B[39m \u001B[43mSeries\u001B[49m\u001B[43m(\u001B[49m\u001B[43mvalue\u001B[49m\u001B[43m)\u001B[49m\n\u001B[0;32m   3901\u001B[0m \u001B[38;5;28;01mexcept\u001B[39;00m (\u001B[38;5;167;01mValueError\u001B[39;00m, \u001B[38;5;167;01mNotImplementedError\u001B[39;00m, \u001B[38;5;167;01mTypeError\u001B[39;00m) \u001B[38;5;28;01mas\u001B[39;00m err:\n",
      "File \u001B[1;32mc:\\users\\goyal\\.virtualenvs\\overpass_turbo-zwxzihl_\\lib\\site-packages\\pandas\\core\\series.py:452\u001B[0m, in \u001B[0;36mSeries.__init__\u001B[1;34m(self, data, index, dtype, name, copy, fastpath)\u001B[0m\n\u001B[0;32m    451\u001B[0m \u001B[38;5;28;01melse\u001B[39;00m:\n\u001B[1;32m--> 452\u001B[0m     data \u001B[38;5;241m=\u001B[39m \u001B[43msanitize_array\u001B[49m\u001B[43m(\u001B[49m\u001B[43mdata\u001B[49m\u001B[43m,\u001B[49m\u001B[43m \u001B[49m\u001B[43mindex\u001B[49m\u001B[43m,\u001B[49m\u001B[43m \u001B[49m\u001B[43mdtype\u001B[49m\u001B[43m,\u001B[49m\u001B[43m \u001B[49m\u001B[43mcopy\u001B[49m\u001B[43m)\u001B[49m\n\u001B[0;32m    454\u001B[0m     manager \u001B[38;5;241m=\u001B[39m get_option(\u001B[38;5;124m\"\u001B[39m\u001B[38;5;124mmode.data_manager\u001B[39m\u001B[38;5;124m\"\u001B[39m)\n",
      "File \u001B[1;32mc:\\users\\goyal\\.virtualenvs\\overpass_turbo-zwxzihl_\\lib\\site-packages\\pandas\\core\\construction.py:598\u001B[0m, in \u001B[0;36msanitize_array\u001B[1;34m(data, index, dtype, copy, raise_cast_failure, allow_2d)\u001B[0m\n\u001B[0;32m    596\u001B[0m             subarr \u001B[38;5;241m=\u001B[39m maybe_infer_to_datetimelike(subarr)\n\u001B[1;32m--> 598\u001B[0m subarr \u001B[38;5;241m=\u001B[39m \u001B[43m_sanitize_ndim\u001B[49m\u001B[43m(\u001B[49m\u001B[43msubarr\u001B[49m\u001B[43m,\u001B[49m\u001B[43m \u001B[49m\u001B[43mdata\u001B[49m\u001B[43m,\u001B[49m\u001B[43m \u001B[49m\u001B[43mdtype\u001B[49m\u001B[43m,\u001B[49m\u001B[43m \u001B[49m\u001B[43mindex\u001B[49m\u001B[43m,\u001B[49m\u001B[43m \u001B[49m\u001B[43mallow_2d\u001B[49m\u001B[38;5;241;43m=\u001B[39;49m\u001B[43mallow_2d\u001B[49m\u001B[43m)\u001B[49m\n\u001B[0;32m    600\u001B[0m \u001B[38;5;28;01mif\u001B[39;00m \u001B[38;5;28misinstance\u001B[39m(subarr, np\u001B[38;5;241m.\u001B[39mndarray):\n\u001B[0;32m    601\u001B[0m     \u001B[38;5;66;03m# at this point we should have dtype be None or subarr.dtype == dtype\u001B[39;00m\n",
      "File \u001B[1;32mc:\\users\\goyal\\.virtualenvs\\overpass_turbo-zwxzihl_\\lib\\site-packages\\pandas\\core\\construction.py:649\u001B[0m, in \u001B[0;36m_sanitize_ndim\u001B[1;34m(result, data, dtype, index, allow_2d)\u001B[0m\n\u001B[0;32m    648\u001B[0m         \u001B[38;5;28;01mreturn\u001B[39;00m result\n\u001B[1;32m--> 649\u001B[0m     \u001B[38;5;28;01mraise\u001B[39;00m \u001B[38;5;167;01mValueError\u001B[39;00m(\u001B[38;5;124m\"\u001B[39m\u001B[38;5;124mData must be 1-dimensional\u001B[39m\u001B[38;5;124m\"\u001B[39m)\n\u001B[0;32m    650\u001B[0m \u001B[38;5;28;01mif\u001B[39;00m is_object_dtype(dtype) \u001B[38;5;129;01mand\u001B[39;00m \u001B[38;5;28misinstance\u001B[39m(dtype, ExtensionDtype):\n\u001B[0;32m    651\u001B[0m     \u001B[38;5;66;03m# i.e. PandasDtype(\"O\")\u001B[39;00m\n",
      "\u001B[1;31mValueError\u001B[0m: Data must be 1-dimensional",
      "\nThe above exception was the direct cause of the following exception:\n",
      "\u001B[1;31mValueError\u001B[0m                                Traceback (most recent call last)",
      "Input \u001B[1;32mIn [34]\u001B[0m, in \u001B[0;36m<module>\u001B[1;34m\u001B[0m\n\u001B[0;32m      1\u001B[0m df \u001B[38;5;241m=\u001B[39m pd\u001B[38;5;241m.\u001B[39mDataFrame()\n\u001B[1;32m----> 2\u001B[0m df[\u001B[38;5;124m\"\u001B[39m\u001B[38;5;124mcrash\u001B[39m\u001B[38;5;124m\"\u001B[39m]\u001B[38;5;241m=\u001B[39mcrash\n\u001B[0;32m      3\u001B[0m df[\u001B[38;5;124m\"\u001B[39m\u001B[38;5;124mPUDO\u001B[39m\u001B[38;5;124m\"\u001B[39m]\u001B[38;5;241m=\u001B[39mPUDO\n\u001B[0;32m      4\u001B[0m df[\u001B[38;5;124m\"\u001B[39m\u001B[38;5;124mVMT_mil\u001B[39m\u001B[38;5;124m\"\u001B[39m] \u001B[38;5;241m=\u001B[39m VMT_mil\n",
      "File \u001B[1;32mc:\\users\\goyal\\.virtualenvs\\overpass_turbo-zwxzihl_\\lib\\site-packages\\pandas\\core\\frame.py:3656\u001B[0m, in \u001B[0;36mDataFrame.__setitem__\u001B[1;34m(self, key, value)\u001B[0m\n\u001B[0;32m   3653\u001B[0m     \u001B[38;5;28mself\u001B[39m\u001B[38;5;241m.\u001B[39m_setitem_array([key], value)\n\u001B[0;32m   3654\u001B[0m \u001B[38;5;28;01melse\u001B[39;00m:\n\u001B[0;32m   3655\u001B[0m     \u001B[38;5;66;03m# set column\u001B[39;00m\n\u001B[1;32m-> 3656\u001B[0m     \u001B[38;5;28;43mself\u001B[39;49m\u001B[38;5;241;43m.\u001B[39;49m\u001B[43m_set_item\u001B[49m\u001B[43m(\u001B[49m\u001B[43mkey\u001B[49m\u001B[43m,\u001B[49m\u001B[43m \u001B[49m\u001B[43mvalue\u001B[49m\u001B[43m)\u001B[49m\n",
      "File \u001B[1;32mc:\\users\\goyal\\.virtualenvs\\overpass_turbo-zwxzihl_\\lib\\site-packages\\pandas\\core\\frame.py:3833\u001B[0m, in \u001B[0;36mDataFrame._set_item\u001B[1;34m(self, key, value)\u001B[0m\n\u001B[0;32m   3823\u001B[0m \u001B[38;5;28;01mdef\u001B[39;00m \u001B[38;5;21m_set_item\u001B[39m(\u001B[38;5;28mself\u001B[39m, key, value) \u001B[38;5;241m-\u001B[39m\u001B[38;5;241m>\u001B[39m \u001B[38;5;28;01mNone\u001B[39;00m:\n\u001B[0;32m   3824\u001B[0m     \u001B[38;5;124;03m\"\"\"\u001B[39;00m\n\u001B[0;32m   3825\u001B[0m \u001B[38;5;124;03m    Add series to DataFrame in specified column.\u001B[39;00m\n\u001B[0;32m   3826\u001B[0m \n\u001B[1;32m   (...)\u001B[0m\n\u001B[0;32m   3831\u001B[0m \u001B[38;5;124;03m    ensure homogeneity.\u001B[39;00m\n\u001B[0;32m   3832\u001B[0m \u001B[38;5;124;03m    \"\"\"\u001B[39;00m\n\u001B[1;32m-> 3833\u001B[0m     value \u001B[38;5;241m=\u001B[39m \u001B[38;5;28;43mself\u001B[39;49m\u001B[38;5;241;43m.\u001B[39;49m\u001B[43m_sanitize_column\u001B[49m\u001B[43m(\u001B[49m\u001B[43mvalue\u001B[49m\u001B[43m)\u001B[49m\n\u001B[0;32m   3835\u001B[0m     \u001B[38;5;28;01mif\u001B[39;00m (\n\u001B[0;32m   3836\u001B[0m         key \u001B[38;5;129;01min\u001B[39;00m \u001B[38;5;28mself\u001B[39m\u001B[38;5;241m.\u001B[39mcolumns\n\u001B[0;32m   3837\u001B[0m         \u001B[38;5;129;01mand\u001B[39;00m value\u001B[38;5;241m.\u001B[39mndim \u001B[38;5;241m==\u001B[39m \u001B[38;5;241m1\u001B[39m\n\u001B[0;32m   3838\u001B[0m         \u001B[38;5;129;01mand\u001B[39;00m \u001B[38;5;129;01mnot\u001B[39;00m is_extension_array_dtype(value)\n\u001B[0;32m   3839\u001B[0m     ):\n\u001B[0;32m   3840\u001B[0m         \u001B[38;5;66;03m# broadcast across multiple columns if necessary\u001B[39;00m\n\u001B[0;32m   3841\u001B[0m         \u001B[38;5;28;01mif\u001B[39;00m \u001B[38;5;129;01mnot\u001B[39;00m \u001B[38;5;28mself\u001B[39m\u001B[38;5;241m.\u001B[39mcolumns\u001B[38;5;241m.\u001B[39mis_unique \u001B[38;5;129;01mor\u001B[39;00m \u001B[38;5;28misinstance\u001B[39m(\u001B[38;5;28mself\u001B[39m\u001B[38;5;241m.\u001B[39mcolumns, MultiIndex):\n",
      "File \u001B[1;32mc:\\users\\goyal\\.virtualenvs\\overpass_turbo-zwxzihl_\\lib\\site-packages\\pandas\\core\\frame.py:4530\u001B[0m, in \u001B[0;36mDataFrame._sanitize_column\u001B[1;34m(self, value)\u001B[0m\n\u001B[0;32m   4517\u001B[0m \u001B[38;5;28;01mdef\u001B[39;00m \u001B[38;5;21m_sanitize_column\u001B[39m(\u001B[38;5;28mself\u001B[39m, value) \u001B[38;5;241m-\u001B[39m\u001B[38;5;241m>\u001B[39m ArrayLike:\n\u001B[0;32m   4518\u001B[0m     \u001B[38;5;124;03m\"\"\"\u001B[39;00m\n\u001B[0;32m   4519\u001B[0m \u001B[38;5;124;03m    Ensures new columns (which go into the BlockManager as new blocks) are\u001B[39;00m\n\u001B[0;32m   4520\u001B[0m \u001B[38;5;124;03m    always copied and converted into an array.\u001B[39;00m\n\u001B[1;32m   (...)\u001B[0m\n\u001B[0;32m   4528\u001B[0m \u001B[38;5;124;03m    numpy.ndarray or ExtensionArray\u001B[39;00m\n\u001B[0;32m   4529\u001B[0m \u001B[38;5;124;03m    \"\"\"\u001B[39;00m\n\u001B[1;32m-> 4530\u001B[0m     \u001B[38;5;28;43mself\u001B[39;49m\u001B[38;5;241;43m.\u001B[39;49m\u001B[43m_ensure_valid_index\u001B[49m\u001B[43m(\u001B[49m\u001B[43mvalue\u001B[49m\u001B[43m)\u001B[49m\n\u001B[0;32m   4532\u001B[0m     \u001B[38;5;66;03m# We should never get here with DataFrame value\u001B[39;00m\n\u001B[0;32m   4533\u001B[0m     \u001B[38;5;28;01mif\u001B[39;00m \u001B[38;5;28misinstance\u001B[39m(value, Series):\n",
      "File \u001B[1;32mc:\\users\\goyal\\.virtualenvs\\overpass_turbo-zwxzihl_\\lib\\site-packages\\pandas\\core\\frame.py:3902\u001B[0m, in \u001B[0;36mDataFrame._ensure_valid_index\u001B[1;34m(self, value)\u001B[0m\n\u001B[0;32m   3900\u001B[0m         value \u001B[38;5;241m=\u001B[39m Series(value)\n\u001B[0;32m   3901\u001B[0m     \u001B[38;5;28;01mexcept\u001B[39;00m (\u001B[38;5;167;01mValueError\u001B[39;00m, \u001B[38;5;167;01mNotImplementedError\u001B[39;00m, \u001B[38;5;167;01mTypeError\u001B[39;00m) \u001B[38;5;28;01mas\u001B[39;00m err:\n\u001B[1;32m-> 3902\u001B[0m         \u001B[38;5;28;01mraise\u001B[39;00m \u001B[38;5;167;01mValueError\u001B[39;00m(\n\u001B[0;32m   3903\u001B[0m             \u001B[38;5;124m\"\u001B[39m\u001B[38;5;124mCannot set a frame with no defined index \u001B[39m\u001B[38;5;124m\"\u001B[39m\n\u001B[0;32m   3904\u001B[0m             \u001B[38;5;124m\"\u001B[39m\u001B[38;5;124mand a value that cannot be converted to a Series\u001B[39m\u001B[38;5;124m\"\u001B[39m\n\u001B[0;32m   3905\u001B[0m         ) \u001B[38;5;28;01mfrom\u001B[39;00m \u001B[38;5;21;01merr\u001B[39;00m\n\u001B[0;32m   3907\u001B[0m \u001B[38;5;66;03m# GH31368 preserve name of index\u001B[39;00m\n\u001B[0;32m   3908\u001B[0m index_copy \u001B[38;5;241m=\u001B[39m value\u001B[38;5;241m.\u001B[39mindex\u001B[38;5;241m.\u001B[39mcopy()\n",
      "\u001B[1;31mValueError\u001B[0m: Cannot set a frame with no defined index and a value that cannot be converted to a Series"
     ]
    }
   ],
   "source": [
    "df = pd.DataFrame()\n",
    "df[\"crash\"]=crash\n",
    "df[\"PUDO\"]=PUDO\n",
    "df[\"VMT_mil\"] = VMT_mil"
   ],
   "metadata": {
    "collapsed": false,
    "pycharm": {
     "name": "#%%\n"
    }
   }
  },
  {
   "cell_type": "code",
   "execution_count": 38,
   "outputs": [],
   "source": [
    "n = 384\n",
    "df = pd.DataFrame(dict(\n",
    "    A=np.random.randint(0, 326, size=n),\n",
    "    B=np.random.randint(0,30000, size=n),\n",
    "    C=np.random.uniform(0,300,size=n)\n",
    "    ))\n"
   ],
   "metadata": {
    "collapsed": false,
    "pycharm": {
     "name": "#%%\n"
    }
   }
  },
  {
   "cell_type": "code",
   "execution_count": 32,
   "outputs": [],
   "source": [
    "df = pd.DataFrame((zip(crash,PUDO,VMT_mil)), columns=[\"Crash\",\"PUDO\",\"VMT_mil\"])"
   ],
   "metadata": {
    "collapsed": false,
    "pycharm": {
     "name": "#%%\n"
    }
   }
  },
  {
   "cell_type": "code",
   "execution_count": 39,
   "outputs": [
    {
     "data": {
      "text/plain": "       A      B           C\n0    132  21830  271.856079\n1    220  18091    2.580811\n2     33   7127  111.994393\n3    147   9029  122.991522\n4     33  20940  130.733723\n..   ...    ...         ...\n379  120  28575   40.632659\n380   52  26348  252.906711\n381   38   4424  232.323237\n382  126  21012   64.403752\n383   42  11137  233.381691\n\n[384 rows x 3 columns]",
      "text/html": "<div>\n<style scoped>\n    .dataframe tbody tr th:only-of-type {\n        vertical-align: middle;\n    }\n\n    .dataframe tbody tr th {\n        vertical-align: top;\n    }\n\n    .dataframe thead th {\n        text-align: right;\n    }\n</style>\n<table border=\"1\" class=\"dataframe\">\n  <thead>\n    <tr style=\"text-align: right;\">\n      <th></th>\n      <th>A</th>\n      <th>B</th>\n      <th>C</th>\n    </tr>\n  </thead>\n  <tbody>\n    <tr>\n      <th>0</th>\n      <td>132</td>\n      <td>21830</td>\n      <td>271.856079</td>\n    </tr>\n    <tr>\n      <th>1</th>\n      <td>220</td>\n      <td>18091</td>\n      <td>2.580811</td>\n    </tr>\n    <tr>\n      <th>2</th>\n      <td>33</td>\n      <td>7127</td>\n      <td>111.994393</td>\n    </tr>\n    <tr>\n      <th>3</th>\n      <td>147</td>\n      <td>9029</td>\n      <td>122.991522</td>\n    </tr>\n    <tr>\n      <th>4</th>\n      <td>33</td>\n      <td>20940</td>\n      <td>130.733723</td>\n    </tr>\n    <tr>\n      <th>...</th>\n      <td>...</td>\n      <td>...</td>\n      <td>...</td>\n    </tr>\n    <tr>\n      <th>379</th>\n      <td>120</td>\n      <td>28575</td>\n      <td>40.632659</td>\n    </tr>\n    <tr>\n      <th>380</th>\n      <td>52</td>\n      <td>26348</td>\n      <td>252.906711</td>\n    </tr>\n    <tr>\n      <th>381</th>\n      <td>38</td>\n      <td>4424</td>\n      <td>232.323237</td>\n    </tr>\n    <tr>\n      <th>382</th>\n      <td>126</td>\n      <td>21012</td>\n      <td>64.403752</td>\n    </tr>\n    <tr>\n      <th>383</th>\n      <td>42</td>\n      <td>11137</td>\n      <td>233.381691</td>\n    </tr>\n  </tbody>\n</table>\n<p>384 rows × 3 columns</p>\n</div>"
     },
     "execution_count": 39,
     "metadata": {},
     "output_type": "execute_result"
    }
   ],
   "source": [
    "df"
   ],
   "metadata": {
    "collapsed": false,
    "pycharm": {
     "name": "#%%\n"
    }
   }
  }
 ],
 "metadata": {
  "kernelspec": {
   "display_name": "Python 3",
   "language": "python",
   "name": "python3"
  },
  "language_info": {
   "codemirror_mode": {
    "name": "ipython",
    "version": 2
   },
   "file_extension": ".py",
   "mimetype": "text/x-python",
   "name": "python",
   "nbconvert_exporter": "python",
   "pygments_lexer": "ipython2",
   "version": "2.7.6"
  }
 },
 "nbformat": 4,
 "nbformat_minor": 0
}